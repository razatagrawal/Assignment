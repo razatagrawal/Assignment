{
 "cells": [
  {
   "cell_type": "code",
   "execution_count": 7,
   "id": "796b57c1",
   "metadata": {},
   "outputs": [
    {
     "name": "stdout",
     "output_type": "stream",
     "text": [
      "RAra1!@#rr\n",
      "Valid Password\n",
      "Rajat\n",
      "Invalid Password\n"
     ]
    }
   ],
   "source": [
    "#Answer 1)\n",
    "import re\n",
    "\n",
    "def check_password(password):\n",
    "    # Check length of password\n",
    "    if len(password) != 10:\n",
    "        return \"Invalid Password\"\n",
    "    \n",
    "    # Check for uppercase letters\n",
    "    uppercase_count = len(re.findall(r'[A-Z]', password))\n",
    "    if uppercase_count < 2:\n",
    "        return \"Invalid Password\"\n",
    "    \n",
    "    # Check for lowercase letters\n",
    "    lowercase_count = len(re.findall(r'[a-z]', password))\n",
    "    if lowercase_count < 2:\n",
    "        return \"Invalid Password\"\n",
    "    \n",
    "    # Check for digits\n",
    "    digit_count = len(re.findall(r'\\d', password))\n",
    "    if digit_count < 1:\n",
    "        return \"Invalid Password\"\n",
    "    \n",
    "    # Check for special characters\n",
    "    special_count = len(re.findall(r'[!@#$%^&*(),.?\":{}|<>]', password))\n",
    "    if special_count < 3:\n",
    "        return \"Invalid Password\"\n",
    "    \n",
    "    # If all checks pass, return \"Valid Password\"\n",
    "    return \"Valid Password\"\n",
    "\n",
    "string1=input()\n",
    "a=check_password(string1)\n",
    "print(a)\n",
    "string2=input()\n",
    "b=check_password(string2)\n",
    "print(b)\n"
   ]
  },
  {
   "cell_type": "code",
   "execution_count": 8,
   "id": "de164d41",
   "metadata": {},
   "outputs": [
    {
     "name": "stdout",
     "output_type": "stream",
     "text": [
      "['apple']\n",
      "['123', '5']\n",
      "[('orange', 80), ('mango', 99), ('grapes', 1000)]\n",
      "[1, 4, 9, 16, 25, 36, 49, 64, 81, 100]\n",
      "[1.0, 1.2599210498948732, 1.4422495703074083, 1.5874010519681994, 1.7099759466766968, 1.8171205928321397, 1.912931182772389, 2.0, 2.080083823051904, 2.154434690031884]\n",
      "[2, 4, 6, 8, 10]\n",
      "[1, 3, 5, 7, 9]\n",
      "Positive integers list: [1, 2, 3, 4, 5, 6]\n",
      "Negative integers list: [-1, -2, -3, -4, -5]\n"
     ]
    }
   ],
   "source": [
    "#Answer 2)\n",
    "\n",
    "#Check if the string starts with a particular letter:\n",
    "string_list = [\"apple\", \"banana\", \"cherry\", \"date\", \"elderberry\"]\n",
    "letter = \"a\"\n",
    "filtered_list = list(filter(lambda x: x.startswith(letter), string_list))\n",
    "print(filtered_list)\n",
    "\n",
    "#Check if the string is numeric:\n",
    "string_list = [\"123\", \"45.6\", \"7.8e-5\", \"abc\", \"5\"]\n",
    "filtered_list = list(filter(lambda x: x.isnumeric(), string_list))\n",
    "print(filtered_list)\n",
    "\n",
    "#Sort a list of tuples having fruit names and their quantity:\n",
    "fruit_list = [(\"mango\", 99), (\"orange\", 80), (\"grapes\", 1000)]\n",
    "sorted_list = sorted(fruit_list, key=lambda x: x[1])\n",
    "print(sorted_list)\n",
    "#Find the squares of numbers from 1 to 10:\n",
    "squares = [x*x for x in range(1, 11)]\n",
    "print(squares)\n",
    "\n",
    "#Find the cube root of numbers from 1 to 10:\n",
    "import math\n",
    "cube_roots = [math.pow(x, 1/3) for x in range(1, 11)]\n",
    "print(cube_roots)\n",
    "\n",
    "#Check if a given number is even:\n",
    "num_list = [2, 3, 4, 5, 6, 7, 8, 9, 10]\n",
    "even_num_list = list(filter(lambda x: x % 2 == 0, num_list))\n",
    "print(even_num_list)\n",
    "\n",
    "#Filter odd numbers from the given list:\n",
    "num_list = [1, 2, 3, 4, 5, 6, 7, 8, 9, 10]\n",
    "odd_num_list = [x for x in num_list if x % 2 != 0]\n",
    "print(odd_num_list)\n",
    "\n",
    "#Sort a list of integers into positive and negative integers lists\n",
    "lst = [1,2,3,4,5,6,-1,-2,-3,-4,-5,0]\n",
    "\n",
    "positive_lst = list(filter(lambda x: x > 0, lst))\n",
    "negative_lst = list(filter(lambda x: x < 0, lst))\n",
    "\n",
    "print(\"Positive integers list:\", positive_lst)\n",
    "print(\"Negative integers list:\", negative_lst)\n",
    "\n",
    "\n",
    "\n",
    "\n",
    "\n",
    "\n",
    "\n",
    "\n",
    "\n"
   ]
  },
  {
   "cell_type": "code",
   "execution_count": null,
   "id": "795288a7",
   "metadata": {},
   "outputs": [],
   "source": []
  }
 ],
 "metadata": {
  "kernelspec": {
   "display_name": "Python 3 (ipykernel)",
   "language": "python",
   "name": "python3"
  },
  "language_info": {
   "codemirror_mode": {
    "name": "ipython",
    "version": 3
   },
   "file_extension": ".py",
   "mimetype": "text/x-python",
   "name": "python",
   "nbconvert_exporter": "python",
   "pygments_lexer": "ipython3",
   "version": "3.10.9"
  }
 },
 "nbformat": 4,
 "nbformat_minor": 5
}
