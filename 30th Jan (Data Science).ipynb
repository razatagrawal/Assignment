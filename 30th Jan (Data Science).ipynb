{
 "cells": [
  {
   "cell_type": "code",
   "execution_count": 4,
   "id": "6135259d",
   "metadata": {},
   "outputs": [
    {
     "name": "stdout",
     "output_type": "stream",
     "text": [
      "91\n",
      "Your Grade is A\n"
     ]
    }
   ],
   "source": [
    "#Answer 1)\n",
    "marks=int(input())\n",
    "if marks>90:\n",
    "    print(\"Your Grade is A\")\n",
    "elif (marks>80 and marks<=90):\n",
    "    print(\"Your Grade is B\")\n",
    "elif (marks>=60 and marks<=80):\n",
    "    print(\"Your Grade is C\")\n",
    "else:\n",
    "    print(\"Your Grade is D\")"
   ]
  },
  {
   "cell_type": "code",
   "execution_count": 6,
   "id": "085f66e6",
   "metadata": {},
   "outputs": [
    {
     "name": "stdout",
     "output_type": "stream",
     "text": [
      "500005\n",
      "Your Road Tax is 75000.75\n"
     ]
    }
   ],
   "source": [
    "#Answer 2)\n",
    "costofbike=int(input())\n",
    "if costofbike>100000:\n",
    "    tax=(costofbike/100*15)\n",
    "    print(\"Your Road Tax is\",tax)\n",
    "elif (costofbike>50000 and costofbike<=100000):\n",
    "    tax=(costofbike/100*10)\n",
    "    print(\"Your Road Tax is\",tax)\n",
    "elif (costofbike<=50000):\n",
    "    tax=(costofbike/100*5)\n",
    "    print(\"Your Road Tax is\",tax)"
   ]
  },
  {
   "cell_type": "code",
   "execution_count": 1,
   "id": "e19d6980",
   "metadata": {},
   "outputs": [
    {
     "name": "stdout",
     "output_type": "stream",
     "text": [
      "Enter Your City :Agra\n",
      "Monument is Red Fort\n"
     ]
    }
   ],
   "source": [
    "#Answer 3)\n",
    "city=input(\"Enter Your City :\")\n",
    "if city.lower() or city==\"Delhi\":\n",
    "    print(\"Monument is Red Fort\")\n",
    "elif city.lower() or city==\"Agra\":\n",
    "    print(\"Monument is Taj Mahal\")\n",
    "elif city.lower() or city==\"Jaipur\":\n",
    "    print(\"Monument is Jai Mahal\")\n",
    "else: print(\"Invalid Entry\")\n",
    "\n"
   ]
  },
  {
   "cell_type": "code",
   "execution_count": 11,
   "id": "fb06c7d2",
   "metadata": {},
   "outputs": [
    {
     "name": "stdout",
     "output_type": "stream",
     "text": [
      "Enter a number: 135\n",
      "The number can be divided by three with 3 times before it is less than or equal to 10.\n"
     ]
    }
   ],
   "source": [
    "#Answer 4)\n",
    "number = int(input(\"Enter a number: \"))\n",
    "count = 0\n",
    "\n",
    "while number > 10:\n",
    "    number /= 3\n",
    "    count += 1\n",
    "\n",
    "print(\"The number can be divided by three with\", count, \"times before it is less than or equal to 10.\")"
   ]
  },
  {
   "cell_type": "markdown",
   "id": "4ca15542",
   "metadata": {},
   "source": [
    "#Answer 5)While loop is a control flow statement that allows you to repeatedly execute a block of code as long as a certain condition is true. The while loop is useful when you need to perform a task multiple times based on a specific condition that can change during the execution of the program.\n"
   ]
  },
  {
   "cell_type": "code",
   "execution_count": 3,
   "id": "fda4998b",
   "metadata": {},
   "outputs": [
    {
     "name": "stdout",
     "output_type": "stream",
     "text": [
      "1\n",
      "2\n",
      "3\n",
      "4\n",
      "5\n"
     ]
    }
   ],
   "source": [
    "i = 1\n",
    "while i < 6:\n",
    "  print(i)\n",
    "  i += 1"
   ]
  },
  {
   "cell_type": "code",
   "execution_count": 8,
   "id": "bb47bcbb",
   "metadata": {},
   "outputs": [
    {
     "name": "stdout",
     "output_type": "stream",
     "text": [
      "*\n",
      "**\n",
      "***\n",
      "****\n",
      "*****\n",
      "Pattern 1\n",
      "*****\n",
      "****\n",
      "***\n",
      "**\n",
      "*\n",
      "Pattern 2\n",
      "****\n",
      "****\n",
      "****\n",
      "****\n",
      "Pattern 3\n"
     ]
    }
   ],
   "source": [
    "#Answer 6\n",
    "i = 1\n",
    "while i <= 5:\n",
    "    j = 1\n",
    "    while j <= i:\n",
    "        print('*', end='')\n",
    "        j += 1\n",
    "    print()\n",
    "    i += 1\n",
    "print(\"Pattern 1\")\n",
    "i = 5\n",
    "while i >= 1:\n",
    "    j = 1\n",
    "    while j <= i:\n",
    "        print('*', end='')\n",
    "        j += 1\n",
    "    print()\n",
    "    i -= 1\n",
    "print(\"Pattern 2\")    \n",
    "i = 1\n",
    "while i <= 4:\n",
    "    j = 1\n",
    "    while j <= 4:\n",
    "        print('*', end='')\n",
    "        j += 1\n",
    "    print()\n",
    "    i += 1\n",
    "print(\"Pattern 3\")\n"
   ]
  },
  {
   "cell_type": "code",
   "execution_count": 9,
   "id": "2b63dba4",
   "metadata": {},
   "outputs": [
    {
     "name": "stdout",
     "output_type": "stream",
     "text": [
      "10\n",
      "9\n",
      "8\n",
      "7\n",
      "6\n",
      "5\n",
      "4\n",
      "3\n",
      "2\n",
      "1\n"
     ]
    }
   ],
   "source": [
    "#Answer 7)\n",
    "num = 10\n",
    "while num >= 1:\n",
    "    print(num)\n",
    "    num -= 1"
   ]
  },
  {
   "cell_type": "code",
   "execution_count": 10,
   "id": "2e5891ad",
   "metadata": {},
   "outputs": [
    {
     "name": "stdout",
     "output_type": "stream",
     "text": [
      "10\n",
      "9\n",
      "8\n",
      "7\n",
      "6\n",
      "5\n",
      "4\n",
      "3\n",
      "2\n",
      "1\n"
     ]
    }
   ],
   "source": [
    "#Answer 8)\n",
    "num = 10\n",
    "while num >= 1:\n",
    "    print(num)\n",
    "    num -= 1"
   ]
  },
  {
   "cell_type": "code",
   "execution_count": null,
   "id": "c94ca5e6",
   "metadata": {},
   "outputs": [],
   "source": []
  }
 ],
 "metadata": {
  "kernelspec": {
   "display_name": "Python 3 (ipykernel)",
   "language": "python",
   "name": "python3"
  },
  "language_info": {
   "codemirror_mode": {
    "name": "ipython",
    "version": 3
   },
   "file_extension": ".py",
   "mimetype": "text/x-python",
   "name": "python",
   "nbconvert_exporter": "python",
   "pygments_lexer": "ipython3",
   "version": "3.10.9"
  }
 },
 "nbformat": 4,
 "nbformat_minor": 5
}
