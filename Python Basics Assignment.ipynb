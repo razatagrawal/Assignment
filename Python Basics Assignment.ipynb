{
 "cells": [
  {
   "cell_type": "markdown",
   "id": "9ad55bcd",
   "metadata": {},
   "source": [
    "Answer 1)\n",
    "1.Variables should start with a lowercase letter or an underscore.\n",
    "2.Use descriptive variable names that accurately reflect the data that they hold.\n",
    "3.Avoid using special characters in variable names, such as @, #, or $.\n",
    "4.Use camelCase naming convention for variables with multiple words. For example, myVariableName.\n",
    "5.Use underscores to separate words in variable names for improved readability. For example, my_variable_name.\n",
    "6.Avoid using reserved keywords as variable names, such as if, else, while, for, etc.\n",
    "7.Use all capital letters for constant values that are not meant to be changed."
   ]
  },
  {
   "cell_type": "markdown",
   "id": "ca28771c",
   "metadata": {},
   "source": [
    "Answer 2) You will get a syntax error. This is because these keywords are reserved for specific purposes in Python and cannot be used as variable names."
   ]
  },
  {
   "cell_type": "markdown",
   "id": "42ce56ae",
   "metadata": {},
   "source": [
    "Answer 3)Yes, it is possible to use a string as a variable name in Python by using a dictionary data structure. In Python, a dictionary is a collection of key-value pairs, where the keys can be any hashable data type, such as a string."
   ]
  },
  {
   "cell_type": "code",
   "execution_count": 1,
   "id": "77b63567",
   "metadata": {},
   "outputs": [
    {
     "name": "stdout",
     "output_type": "stream",
     "text": [
      "10\n"
     ]
    }
   ],
   "source": [
    "#Answer 4) Yes, it is possible to declare a variable with an underscore (_) as its name in Python. The underscore character is a valid identifier and can be used as a variable name.\n",
    "_ = 10\n",
    "print(_)"
   ]
  },
  {
   "cell_type": "code",
   "execution_count": 2,
   "id": "6df5bddc",
   "metadata": {},
   "outputs": [
    {
     "name": "stdout",
     "output_type": "stream",
     "text": [
      "10\n",
      "<class 'int'>\n",
      "Hello, world!\n",
      "<class 'str'>\n",
      "[1, 2, 3]\n",
      "<class 'list'>\n"
     ]
    }
   ],
   "source": [
    "#Answer 5)In Python, variables are dynamic in nature, which means that they can change their data type and value during runtime.\n",
    "x = 10\n",
    "print(x)  \n",
    "print(type(x))  \n",
    "\n",
    "x = \"Hello, world!\"\n",
    "print(x)  \n",
    "print(type(x))\n",
    "\n",
    "x = [1, 2, 3]\n",
    "print(x)\n",
    "print(type(x))   "
   ]
  },
  {
   "cell_type": "code",
   "execution_count": null,
   "id": "625b3651",
   "metadata": {},
   "outputs": [],
   "source": []
  }
 ],
 "metadata": {
  "kernelspec": {
   "display_name": "Python 3 (ipykernel)",
   "language": "python",
   "name": "python3"
  },
  "language_info": {
   "codemirror_mode": {
    "name": "ipython",
    "version": 3
   },
   "file_extension": ".py",
   "mimetype": "text/x-python",
   "name": "python",
   "nbconvert_exporter": "python",
   "pygments_lexer": "ipython3",
   "version": "3.10.9"
  }
 },
 "nbformat": 4,
 "nbformat_minor": 5
}
