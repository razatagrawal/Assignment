{
 "cells": [
  {
   "cell_type": "code",
   "execution_count": 3,
   "id": "0b86d9fa-200f-4606-ad52-fa286207f21c",
   "metadata": {},
   "outputs": [
    {
     "name": "stdout",
     "output_type": "stream",
     "text": [
      "[]\n"
     ]
    }
   ],
   "source": [
    "#Answer 1) creating empty list\n",
    "l=[]\n",
    "print(l)"
   ]
  },
  {
   "cell_type": "code",
   "execution_count": 12,
   "id": "a73f5952-76c6-44e4-8738-04b5ab578f5b",
   "metadata": {},
   "outputs": [
    {
     "name": "stdout",
     "output_type": "stream",
     "text": [
      "[2]\n",
      "[2, 3]\n",
      "3\n",
      "[3, 2]\n",
      "[2, 3]\n"
     ]
    }
   ],
   "source": [
    "#Answer 2)\n",
    "l=[]\n",
    "l.append(2)\n",
    "print(l)\n",
    "l.append(3)\n",
    "print(l)\n",
    "\n",
    "#Answer 3)\n",
    "print(l[-1]) #printing last element\n",
    "\n",
    "#Answer 4)\n",
    "l.sort(reverse=True)\n",
    "print(l)\n",
    "\n",
    "#Answer 5)\n",
    "l.sort(reverse=False)\n",
    "print(l)"
   ]
  },
  {
   "cell_type": "code",
   "execution_count": 15,
   "id": "15c968d4-e543-4189-bee5-d84627a606e2",
   "metadata": {},
   "outputs": [
    {
     "name": "stdout",
     "output_type": "stream",
     "text": [
      "Superman\n"
     ]
    }
   ],
   "source": [
    "#Answer 6)\n",
    "l=['Spiderman', 'Superman', 'Batman']\n",
    "print(l[1]) #printing second movie"
   ]
  },
  {
   "cell_type": "code",
   "execution_count": 17,
   "id": "f1746f6d-1c90-4de2-ab16-ef3b4e8696f5",
   "metadata": {},
   "outputs": [
    {
     "name": "stdout",
     "output_type": "stream",
     "text": [
      "['cat', 'dog', 'lion', 'tiger']\n",
      "['cat', 'dog', 'lion', 'tiger', 'bear']\n"
     ]
    }
   ],
   "source": [
    "#Answer 7)\n",
    "animals=['cat','dog','lion','tiger']\n",
    "print(animals)\n",
    "animals.append('bear')\n",
    "print(animals)"
   ]
  },
  {
   "cell_type": "code",
   "execution_count": 19,
   "id": "b4b35203-1273-4f27-a21a-cf6d6c10f3ea",
   "metadata": {},
   "outputs": [
    {
     "name": "stdout",
     "output_type": "stream",
     "text": [
      "3\n"
     ]
    }
   ],
   "source": [
    "#Answer 8)\n",
    "cities=['mumbai','pune','delhi','prayagraj']\n",
    "print(cities.index('prayagraj'))"
   ]
  },
  {
   "cell_type": "code",
   "execution_count": null,
   "id": "d8b43b04-739c-42b4-ad9a-660d768bfd92",
   "metadata": {},
   "outputs": [],
   "source": []
  }
 ],
 "metadata": {
  "kernelspec": {
   "display_name": "Python 3 (ipykernel)",
   "language": "python",
   "name": "python3"
  },
  "language_info": {
   "codemirror_mode": {
    "name": "ipython",
    "version": 3
   },
   "file_extension": ".py",
   "mimetype": "text/x-python",
   "name": "python",
   "nbconvert_exporter": "python",
   "pygments_lexer": "ipython3",
   "version": "3.10.9"
  }
 },
 "nbformat": 4,
 "nbformat_minor": 5
}
