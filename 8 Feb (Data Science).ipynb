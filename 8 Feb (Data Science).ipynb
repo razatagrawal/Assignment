{
 "cells": [
  {
   "cell_type": "markdown",
   "id": "71c34453",
   "metadata": {},
   "source": [
    "Answer 1) Abstraction can be achieved using Abstract Base Classes (ABC) from the abc module. An abstract base class is a class that cannot be instantiated directly and can only be used as a base class for other classes. It defines the common interface and attributes for the subclasses, but does not provide any implementation details."
   ]
  },
  {
   "cell_type": "code",
   "execution_count": 2,
   "id": "63219c6b",
   "metadata": {},
   "outputs": [
    {
     "name": "stdout",
     "output_type": "stream",
     "text": [
      "The mileage is 30kmph\n",
      "The mileage is 27kmph \n",
      "The mileage is 25kmph \n",
      "The mileage is 24kmph \n"
     ]
    }
   ],
   "source": [
    "from abc import ABC, abstractmethod   \n",
    "class Car(ABC):   \n",
    "    def mileage(self):   \n",
    "        pass  \n",
    "  \n",
    "class Tesla(Car):   \n",
    "    def mileage(self):   \n",
    "        print(\"The mileage is 30kmph\")   \n",
    "class Suzuki(Car):   \n",
    "    def mileage(self):   \n",
    "        print(\"The mileage is 25kmph \")   \n",
    "class Duster(Car):   \n",
    "     def mileage(self):   \n",
    "          print(\"The mileage is 24kmph \")   \n",
    "  \n",
    "class Renault(Car):   \n",
    "    def mileage(self):   \n",
    "            print(\"The mileage is 27kmph \")   \n",
    "          \n",
    "t= Tesla ()   \n",
    "t.mileage()   \n",
    "  \n",
    "r = Renault()   \n",
    "r.mileage()   \n",
    "  \n",
    "s = Suzuki()   \n",
    "s.mileage()   \n",
    "d = Duster()   \n",
    "d.mileage() "
   ]
  },
  {
   "cell_type": "code",
   "execution_count": 4,
   "id": "c1bb052e",
   "metadata": {},
   "outputs": [
    {
     "name": "stdout",
     "output_type": "stream",
     "text": [
      "The mileage is 30kmph\n",
      "The mileage is 27kmph \n",
      "The mileage is 25kmph \n",
      "The mileage is 24kmph \n",
      "I am Steve\n",
      "I got Rank  1\n",
      "I am Chris\n",
      "I got Rank  2\n",
      "I am Mark\n",
      "I got Rank  3\n",
      "I am Kate\n",
      "I got Rank  4\n"
     ]
    }
   ],
   "source": [
    "#Answer 2)Abstraction is hiding the details and implementation of the code.\n",
    "#Encapsulation is hiding the data and controlling the visibility of the code.\n",
    "from abc import ABC, abstractmethod   \n",
    "class Car(ABC):   \n",
    "    def mileage(self):   \n",
    "        pass  \n",
    "  \n",
    "class Tesla(Car):   \n",
    "    def mileage(self):   \n",
    "        print(\"The mileage is 30kmph\")   \n",
    "class Suzuki(Car):   \n",
    "    def mileage(self):   \n",
    "        print(\"The mileage is 25kmph \")   \n",
    "class Duster(Car):   \n",
    "     def mileage(self):   \n",
    "          print(\"The mileage is 24kmph \")   \n",
    "  \n",
    "class Renault(Car):   \n",
    "    def mileage(self):   \n",
    "            print(\"The mileage is 27kmph \") \n",
    "t= Tesla ()   \n",
    "t.mileage()   \n",
    "  \n",
    "r = Renault()   \n",
    "r.mileage()   \n",
    "  \n",
    "s = Suzuki()   \n",
    "s.mileage()   \n",
    "d = Duster()   \n",
    "d.mileage() \n",
    "\n",
    "#Example of Encapsulation\n",
    "class Students:\n",
    "   def __init__(self, name, rank, points):\n",
    "      self.name = name\n",
    "      self.rank = rank\n",
    "      self.points = points\n",
    "\n",
    "   # custom function\n",
    "   def demofunc(self):\n",
    "      print(\"I am \"+self.name)\n",
    "      print(\"I got Rank \",+self.rank)\n",
    "\n",
    "# create 4 objects\n",
    "st1 = Students(\"Steve\", 1, 100)\n",
    "st2 = Students(\"Chris\", 2, 90)\n",
    "st3 = Students(\"Mark\", 3, 76)\n",
    "st4 = Students(\"Kate\", 4, 60)\n",
    "\n",
    "# call the functions using the objects created above\n",
    "st1.demofunc()\n",
    "st2.demofunc()\n",
    "st3.demofunc()\n",
    "st4.demofunc()"
   ]
  },
  {
   "cell_type": "markdown",
   "id": "be6e5ab5",
   "metadata": {},
   "source": [
    "Answer 3)The 'abc' module in Python library provides the infrastructure for defining custom abstract base classes. 'abc' works by marking methods of the base class as abstract. This is done by @absttractmethod decorator."
   ]
  },
  {
   "cell_type": "markdown",
   "id": "728e248d",
   "metadata": {},
   "source": [
    "Answer 4)Data Abstraction in Python can be achieved through creating abstract classes and inheriting them later. Before discussing what abstract classes are, let us have a brief introduction of inheritance. Inheritance in OOP is a way through which one class inherits the attributes and methods of another class."
   ]
  },
  {
   "cell_type": "markdown",
   "id": "9f7dc6d3",
   "metadata": {},
   "source": [
    "Answer 5)Abstract classes are not complete, as they may have some methods that are not defined. So we cannot create an instance or object of an abstract class in Python"
   ]
  },
  {
   "cell_type": "code",
   "execution_count": null,
   "id": "009f2773",
   "metadata": {},
   "outputs": [],
   "source": []
  }
 ],
 "metadata": {
  "kernelspec": {
   "display_name": "Python 3 (ipykernel)",
   "language": "python",
   "name": "python3"
  },
  "language_info": {
   "codemirror_mode": {
    "name": "ipython",
    "version": 3
   },
   "file_extension": ".py",
   "mimetype": "text/x-python",
   "name": "python",
   "nbconvert_exporter": "python",
   "pygments_lexer": "ipython3",
   "version": "3.10.9"
  }
 },
 "nbformat": 4,
 "nbformat_minor": 5
}
