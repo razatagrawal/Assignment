{
 "cells": [
  {
   "cell_type": "code",
   "execution_count": 2,
   "id": "ea1a1ea4",
   "metadata": {},
   "outputs": [
    {
     "name": "stdout",
     "output_type": "stream",
     "text": [
      "[1, 2, 3]\n",
      "[1, 2, 3, 4]\n",
      "[1, 2, 3]\n",
      "[1, 4, 2, 3]\n"
     ]
    }
   ],
   "source": [
    "#Answer 1)We can add an element to a list using the append() method or the insert() method.\n",
    "my_list1 = [1, 2, 3]\n",
    "print(my_list1)\n",
    "my_list1.append(4)\n",
    "print(my_list1)\n",
    "my_list2 = [1, 2, 3]\n",
    "print(my_list2)\n",
    "my_list2.insert(1, 4)\n",
    "print(my_list2)"
   ]
  },
  {
   "cell_type": "markdown",
   "id": "6e532377",
   "metadata": {},
   "source": [
    "Answer 2)remove() and pop() are both list methods used to remove elements from a list, but they differ in how they remove elements.The remove() method is used to remove the first occurrence of a specific element from a list.\n",
    "The pop() method, on the other hand, is used to remove an element from a specific position in the list and return its value."
   ]
  },
  {
   "cell_type": "code",
   "execution_count": 3,
   "id": "4799db74",
   "metadata": {},
   "outputs": [
    {
     "name": "stdout",
     "output_type": "stream",
     "text": [
      "[8, 6, 5, 3, 2, 1]\n"
     ]
    }
   ],
   "source": [
    "#Answer 3)You can sort a list in descending order using the sort() method with the reverse=True parameter\n",
    "my_list = [3, 6, 1, 8, 2, 5]\n",
    "my_list.sort(reverse=True)\n",
    "print(my_list)"
   ]
  },
  {
   "cell_type": "code",
   "execution_count": 4,
   "id": "05c0e2b9",
   "metadata": {},
   "outputs": [
    {
     "name": "stdout",
     "output_type": "stream",
     "text": [
      "2\n"
     ]
    }
   ],
   "source": [
    "#Answer 4)We can count the number of occurrences of an element in a list using the count() method. Here's an example:\n",
    "my_list = [3, 6, 1, 8, 2, 5, 3, 1, 8, 2]\n",
    "count = my_list.count(3)\n",
    "print(count)"
   ]
  },
  {
   "cell_type": "code",
   "execution_count": 5,
   "id": "f8925170",
   "metadata": {},
   "outputs": [
    {
     "name": "stdout",
     "output_type": "stream",
     "text": [
      "[5, 2, 8, 1, 6, 3]\n"
     ]
    }
   ],
   "source": [
    "#Answer 5)We can reverse a list in Python using the reverse() method or by using slicing\n",
    "#Using reverse() method:\n",
    "\n",
    "my_list = [3, 6, 1, 8, 2, 5]\n",
    "my_list.reverse()\n",
    "print(my_list)"
   ]
  },
  {
   "cell_type": "code",
   "execution_count": null,
   "id": "b81ecd98",
   "metadata": {},
   "outputs": [],
   "source": []
  }
 ],
 "metadata": {
  "kernelspec": {
   "display_name": "Python 3 (ipykernel)",
   "language": "python",
   "name": "python3"
  },
  "language_info": {
   "codemirror_mode": {
    "name": "ipython",
    "version": 3
   },
   "file_extension": ".py",
   "mimetype": "text/x-python",
   "name": "python",
   "nbconvert_exporter": "python",
   "pygments_lexer": "ipython3",
   "version": "3.10.9"
  }
 },
 "nbformat": 4,
 "nbformat_minor": 5
}
