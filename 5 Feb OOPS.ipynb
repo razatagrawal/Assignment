{
 "cells": [
  {
   "cell_type": "markdown",
   "id": "ba52a3d3",
   "metadata": {},
   "source": [
    "Answer 1)In Object-Oriented Programming (OOP), a class is a blueprint or template for creating objects that share similar attributes and behaviors. A class defines a set of attributes and methods that represent the characteristics and actions of the objects that will be created based on the class.\n",
    "\n",
    "An object, on the other hand, is an instance of a class. It is a specific realization of the class that has its own unique set of values for the attributes defined by the class. Objects can interact with each other by calling each other's methods.\n",
    "\n",
    "Example of a class and object in Python:"
   ]
  },
  {
   "cell_type": "code",
   "execution_count": 1,
   "id": "c6030cd7",
   "metadata": {},
   "outputs": [
    {
     "name": "stdout",
     "output_type": "stream",
     "text": [
      "10\n"
     ]
    }
   ],
   "source": [
    "class Car:\n",
    "    def __init__(self, make, model, year):\n",
    "        self.make = make\n",
    "        self.model = model\n",
    "        self.year = year\n",
    "        self.speed = 0\n",
    "        \n",
    "    def accelerate(self):\n",
    "        self.speed += 10\n",
    "        \n",
    "    def brake(self):\n",
    "        self.speed -= 10\n",
    "        \n",
    "    def get_speed(self):\n",
    "        return self.speed\n",
    "        \n",
    "my_car = Car(\"Tata\", \"Mahindra\", 2022)\n",
    "my_car.accelerate()\n",
    "print(my_car.get_speed())\n"
   ]
  },
  {
   "cell_type": "markdown",
   "id": "d5b6d826",
   "metadata": {},
   "source": [
    "Answer 2)The four pillars of Object-Oriented Programming (OOP) are:\n",
    "\n",
    "Encapsulation: Encapsulation refers to the practice of bundling data and methods that operate on that data within a single unit, i.e., a class. This hides the implementation details of the class from the outside world and protects the data from unwanted access or modification.\n",
    "\n",
    "Inheritance: Inheritance allows a class to inherit attributes and behaviors from another class called the superclass or parent class. The subclass or child class can then add or modify these attributes and behaviors, without affecting the parent class.\n",
    "\n",
    "Polymorphism: Polymorphism refers to the ability of objects of different classes to be treated as if they are of the same class. This allows different objects to respond to the same message or method in different ways, depending on their individual implementation.\n",
    "\n",
    "Abstraction: Abstraction is the practice of focusing on essential features of an object or system, while ignoring the non-essential or irrelevant details. This allows for a simplified representation of the object or system, which can be easier to understand and work with. In OOP, abstraction is achieved through the use of abstract classes and interfaces."
   ]
  },
  {
   "cell_type": "markdown",
   "id": "40b0f6fe",
   "metadata": {},
   "source": [
    "Answer 3) In Python, the __init__() function is a special method that is called automatically when an object of a class is created. It is used to initialize the attributes of the object with some default values or values provided by the user. The __init__() method is typically used to set up the object's initial state, allocate resources if necessary, and perform any other necessary setup operations."
   ]
  },
  {
   "cell_type": "markdown",
   "id": "d7e16e72",
   "metadata": {},
   "source": [
    "Answer 4) In Object-Oriented Programming (OOP), self is a keyword used to refer to the instance of a class that a method belongs to. When a method is called on an object, the self keyword is used as the first parameter in the method definition to refer to the object that the method belongs to.\n",
    "\n",
    "The self parameter is used to access and modify the attributes and methods of the object. By using self, we can distinguish between the attributes and methods of the object and those of the class itself."
   ]
  },
  {
   "cell_type": "markdown",
   "id": "d671ac1f",
   "metadata": {},
   "source": [
    "Answer 5) Inheritance is a fundamental concept in Object-Oriented Programming (OOP) that allows one class to inherit attributes and methods from another class. The class that is being inherited from is called the superclass or parent class, and the class that inherits from it is called the subclass or child class.\n",
    "\n",
    "There are four types of inheritance in Python:\n",
    "\n",
    "A)Single inheritance: In single inheritance, a subclass inherits from a single parent class. This is the simplest type of inheritance.\n",
    "\n",
    "B)Multiple inheritance: In multiple inheritance, a subclass inherits from multiple parent classes. This allows the subclass to inherit attributes and methods from all of its parent classes.\n",
    "\n",
    "C)Multilevel inheritance: In multilevel inheritance, a subclass inherits from a parent class that itself inherits from another parent class. This allows the subclass to inherit attributes and methods from all of its parent classes and grandparent classes. \n",
    "\n",
    "D)Hierarchical inheritance: In hierarchical inheritance, multiple child classes inherit from the same parent class. This allows the child classes to inherit the same attributes and methods from the parent class"
   ]
  },
  {
   "cell_type": "code",
   "execution_count": 2,
   "id": "025aaf9e",
   "metadata": {},
   "outputs": [
    {
     "name": "stdout",
     "output_type": "stream",
     "text": [
      "This function is in parent class.\n",
      "This function is in child class.\n"
     ]
    }
   ],
   "source": [
    "# single inheritance\n",
    "class Parent:\n",
    "    def func1(self):\n",
    "        print(\"This function is in parent class.\")\n",
    " \n",
    "# Derived class\n",
    " \n",
    "class Child(Parent):\n",
    "    def func2(self):\n",
    "        print(\"This function is in child class.\")\n",
    "object = Child()\n",
    "object.func1()\n",
    "object.func2()"
   ]
  },
  {
   "cell_type": "code",
   "execution_count": 3,
   "id": "11e54018",
   "metadata": {},
   "outputs": [
    {
     "name": "stdout",
     "output_type": "stream",
     "text": [
      "Father : RAM\n",
      "Mother : SITA\n"
     ]
    }
   ],
   "source": [
    "# multiple inheritance\n",
    " \n",
    "# Base class1\n",
    "class Mother:\n",
    "    mothername = \"\"\n",
    " \n",
    "    def mother(self):\n",
    "        print(self.mothername)\n",
    " \n",
    "# Base class2\n",
    " \n",
    " \n",
    "class Father:\n",
    "    fathername = \"\"\n",
    " \n",
    "    def father(self):\n",
    "        print(self.fathername)\n",
    " \n",
    "# Derived class\n",
    " \n",
    " \n",
    "class Son(Mother, Father):\n",
    "    def parents(self):\n",
    "        print(\"Father :\", self.fathername)\n",
    "        print(\"Mother :\", self.mothername)\n",
    "s1 = Son()\n",
    "s1.fathername = \"RAM\"\n",
    "s1.mothername = \"SITA\"\n",
    "s1.parents()"
   ]
  },
  {
   "cell_type": "code",
   "execution_count": 4,
   "id": "8fe85687",
   "metadata": {},
   "outputs": [
    {
     "name": "stdout",
     "output_type": "stream",
     "text": [
      "Lal mani\n",
      "Grandfather name : Lal mani\n",
      "Father name : Rampal\n",
      "Son name : Prince\n"
     ]
    }
   ],
   "source": [
    "# multilevel inheritance\n",
    " \n",
    "# Base class\n",
    " \n",
    " \n",
    "class Grandfather:\n",
    " \n",
    "    def __init__(self, grandfathername):\n",
    "        self.grandfathername = grandfathername\n",
    " \n",
    "# Intermediate class\n",
    " \n",
    " \n",
    "class Father(Grandfather):\n",
    "    def __init__(self, fathername, grandfathername):\n",
    "        self.fathername = fathername\n",
    " \n",
    "        # invoking constructor of Grandfather class\n",
    "        Grandfather.__init__(self, grandfathername)\n",
    " \n",
    "# Derived class\n",
    " \n",
    " \n",
    "class Son(Father):\n",
    "    def __init__(self, sonname, fathername, grandfathername):\n",
    "        self.sonname = sonname\n",
    " \n",
    "        # invoking constructor of Father class\n",
    "        Father.__init__(self, fathername, grandfathername)\n",
    " \n",
    "    def print_name(self):\n",
    "        print('Grandfather name :', self.grandfathername)\n",
    "        print(\"Father name :\", self.fathername)\n",
    "        print(\"Son name :\", self.sonname)\n",
    " \n",
    "s1 = Son('Prince', 'Rampal', 'Lal mani')\n",
    "print(s1.grandfathername)\n",
    "s1.print_name()"
   ]
  },
  {
   "cell_type": "code",
   "execution_count": 5,
   "id": "810ab9cc",
   "metadata": {},
   "outputs": [
    {
     "name": "stdout",
     "output_type": "stream",
     "text": [
      "This function is in parent class.\n",
      "This function is in child 1.\n",
      "This function is in parent class.\n",
      "This function is in child 2.\n"
     ]
    }
   ],
   "source": [
    "# Hierarchical inheritance\n",
    " \n",
    " \n",
    "# Base class\n",
    "class Parent:\n",
    "    def func1(self):\n",
    "        print(\"This function is in parent class.\")\n",
    " \n",
    "# Derived class1\n",
    " \n",
    " \n",
    "class Child1(Parent):\n",
    "    def func2(self):\n",
    "        print(\"This function is in child 1.\")\n",
    " \n",
    "# Derivied class2\n",
    " \n",
    " \n",
    "class Child2(Parent):\n",
    "    def func3(self):\n",
    "        print(\"This function is in child 2.\")\n",
    " \n",
    "\n",
    "object1 = Child1()\n",
    "object2 = Child2()\n",
    "object1.func1()\n",
    "object1.func2()\n",
    "object2.func1()\n",
    "object2.func3()"
   ]
  },
  {
   "cell_type": "code",
   "execution_count": null,
   "id": "053ea3bd",
   "metadata": {},
   "outputs": [],
   "source": []
  }
 ],
 "metadata": {
  "kernelspec": {
   "display_name": "Python 3 (ipykernel)",
   "language": "python",
   "name": "python3"
  },
  "language_info": {
   "codemirror_mode": {
    "name": "ipython",
    "version": 3
   },
   "file_extension": ".py",
   "mimetype": "text/x-python",
   "name": "python",
   "nbconvert_exporter": "python",
   "pygments_lexer": "ipython3",
   "version": "3.10.9"
  }
 },
 "nbformat": 4,
 "nbformat_minor": 5
}
