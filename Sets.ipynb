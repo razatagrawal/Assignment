{
 "cells": [
  {
   "cell_type": "markdown",
   "id": "1aa18589",
   "metadata": {},
   "source": [
    "Answer 1)A set is an unordered collection of unique elements. This means that a set can contain only one occurrence of any given element, and the order in which the elements are stored is not defined or maintained.\n",
    "\n",
    "Sets are represented in Python using curly braces {}, or by using the set() function. "
   ]
  },
  {
   "cell_type": "markdown",
   "id": "14ffc326",
   "metadata": {},
   "source": [
    "Answer 2) We can create a set using curly braces {} or by using the set() function.\n",
    "my_set = {1, 2, 3}"
   ]
  },
  {
   "cell_type": "markdown",
   "id": "a448c35b",
   "metadata": {},
   "source": [
    "Answer 3)Wou can add elements to a set using the add() method or the update() method.\n",
    "The add() method is used to add a single element to a set."
   ]
  },
  {
   "cell_type": "markdown",
   "id": "f602fd81",
   "metadata": {},
   "source": [
    "Answer 4)We can remove elements from a set using the remove() method, the discard() method, or the pop() method.\n",
    "The remove() method is used to remove a specific element from the set."
   ]
  },
  {
   "cell_type": "code",
   "execution_count": 1,
   "id": "1636c77a",
   "metadata": {},
   "outputs": [
    {
     "name": "stdout",
     "output_type": "stream",
     "text": [
      "5\n"
     ]
    }
   ],
   "source": [
    "#Answer 5)We can get the length of a set using the len() function.\n",
    "myset = {1, 2, 3, 4, 5}\n",
    "print(len(myset))"
   ]
  },
  {
   "cell_type": "code",
   "execution_count": null,
   "id": "db36408f",
   "metadata": {},
   "outputs": [],
   "source": []
  }
 ],
 "metadata": {
  "kernelspec": {
   "display_name": "Python 3 (ipykernel)",
   "language": "python",
   "name": "python3"
  },
  "language_info": {
   "codemirror_mode": {
    "name": "ipython",
    "version": 3
   },
   "file_extension": ".py",
   "mimetype": "text/x-python",
   "name": "python",
   "nbconvert_exporter": "python",
   "pygments_lexer": "ipython3",
   "version": "3.10.9"
  }
 },
 "nbformat": 4,
 "nbformat_minor": 5
}
