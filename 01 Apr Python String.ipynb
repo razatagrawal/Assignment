{
 "cells": [
  {
   "cell_type": "code",
   "execution_count": 2,
   "id": "fe8a582c",
   "metadata": {},
   "outputs": [
    {
     "name": "stdout",
     "output_type": "stream",
     "text": [
      "'\n"
     ]
    },
    {
     "data": {
      "text/plain": [
       "str"
      ]
     },
     "execution_count": 2,
     "metadata": {},
     "output_type": "execute_result"
    }
   ],
   "source": [
    "Answer 1) s=\"'\"\n",
    "print(s)\n",
    "type(s)"
   ]
  },
  {
   "cell_type": "code",
   "execution_count": 3,
   "id": "ac3318cd",
   "metadata": {},
   "outputs": [
    {
     "data": {
      "text/plain": [
       "str"
      ]
     },
     "execution_count": 3,
     "metadata": {},
     "output_type": "execute_result"
    }
   ],
   "source": [
    "#Answer 2) \n",
    "x='a'\n",
    "type(x)\n",
    "#here x is string type because it is written in single quotes and considered as string"
   ]
  },
  {
   "cell_type": "code",
   "execution_count": 7,
   "id": "f0a5aaf3",
   "metadata": {},
   "outputs": [
    {
     "name": "stdout",
     "output_type": "stream",
     "text": [
      "1\n",
      "1\n",
      "35\n",
      "Welcome to Python foundation courseWelcome to Python foundation course\n"
     ]
    }
   ],
   "source": [
    "#Answer 3 \n",
    "s= 'Welcome to Python foundation course'\n",
    "print(s.find('e'))\n",
    "print(s.count('y'))\n",
    "print(len(s))\n",
    "p= s+s\n",
    "print(p)"
   ]
  },
  {
   "cell_type": "code",
   "execution_count": 10,
   "id": "77c2a81b",
   "metadata": {},
   "outputs": [
    {
     "name": "stdout",
     "output_type": "stream",
     "text": [
      "lowercase alphabets: 4\n",
      "uppercase alphabets: 2\n",
      "numerical characters: 5\n"
     ]
    }
   ],
   "source": [
    "#Answer 4)\n",
    "word = 'PanaJi@12256'\n",
    "\n",
    "# a)Total number of lowercase alphabets\n",
    "lower = sum(1 for c in word if c.islower())\n",
    "print('lowercase alphabets:', lower)\n",
    "\n",
    "# Total number of uppercase alphabets\n",
    "upper = sum(1 for c in word if c.isupper())\n",
    "print('uppercase alphabets:', upper)\n",
    "\n",
    "# Total number of numerical characters\n",
    "digit = sum(1 for c in word if c.isdigit())\n",
    "print('numerical characters:', digit)\n",
    "\n"
   ]
  },
  {
   "cell_type": "code",
   "execution_count": 12,
   "id": "8b8794be",
   "metadata": {},
   "outputs": [
    {
     "name": "stdout",
     "output_type": "stream",
     "text": [
      "<class 'int'>\n",
      "<class 'str'>\n"
     ]
    }
   ],
   "source": [
    "#Answer 5)\n",
    "a=4\n",
    "print(type(a))#integer type\n",
    "aa=str(a)\n",
    "print(type(aa))##changed to string"
   ]
  },
  {
   "cell_type": "code",
   "execution_count": null,
   "id": "e9d99c1e",
   "metadata": {},
   "outputs": [],
   "source": []
  }
 ],
 "metadata": {
  "kernelspec": {
   "display_name": "Python 3 (ipykernel)",
   "language": "python",
   "name": "python3"
  },
  "language_info": {
   "codemirror_mode": {
    "name": "ipython",
    "version": 3
   },
   "file_extension": ".py",
   "mimetype": "text/x-python",
   "name": "python",
   "nbconvert_exporter": "python",
   "pygments_lexer": "ipython3",
   "version": "3.10.9"
  }
 },
 "nbformat": 4,
 "nbformat_minor": 5
}
