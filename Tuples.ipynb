{
 "cells": [
  {
   "cell_type": "markdown",
   "id": "4acdcc9a",
   "metadata": {},
   "source": [
    "Answer 1) Python, a tuple is a sequence data type that is similar to a list, but it is immutable, meaning that its elements cannot be modified once it has been created. Tuples are represented by parentheses, and the individual elements in the tuple are separated by commas. Here is an example of a tuple:\n",
    "my_tuple = (1,'four', 5.0)"
   ]
  },
  {
   "cell_type": "code",
   "execution_count": 2,
   "id": "3949df6d",
   "metadata": {},
   "outputs": [
    {
     "name": "stdout",
     "output_type": "stream",
     "text": [
      "(1, 3, 'four', 5.0)\n"
     ]
    }
   ],
   "source": [
    "#Answer 2)To create a tuple in Python, you can use parentheses () to enclose a sequence of comma-separated values. Here is an example of creating a tuple:\n",
    "my_tuple = (1, 3, 'four', 5.0)\n",
    "print(my_tuple)"
   ]
  },
  {
   "cell_type": "markdown",
   "id": "104e4a44",
   "metadata": {},
   "source": [
    "Answer 3) The main difference between a tuple and a list is that a tuple is immutable while a list is mutable. This means that once a tuple is created, its individual elements cannot be modified, while the elements of a list can be modified.\n",
    "Tuples are created using parentheses (), while lists are created using square brackets []."
   ]
  },
  {
   "cell_type": "markdown",
   "id": "97b09e8a",
   "metadata": {},
   "source": [
    "Answer 4) No, a tuple is an immutable data type in Python, which means that once it is created, its elements cannot be modified. Any attempt to modify a tuple will result in a TypeError."
   ]
  },
  {
   "cell_type": "code",
   "execution_count": 2,
   "id": "2ee3ee18",
   "metadata": {},
   "outputs": [
    {
     "name": "stdout",
     "output_type": "stream",
     "text": [
      "banana\n"
     ]
    }
   ],
   "source": [
    "#Answer 5)We can access individual elements in a tuple using indexing. Indexing in Python starts from 0, which means that the first element of a tuple has an index of 0, the second element has an index of 1, and so on.\n",
    "#To access an element in a tuple, you can use square brackets [] and provide the index of the element you want to access. Here is an example:\n",
    "\n",
    "mytuple = ('apple', 'banana', 'cherry')\n",
    "print(mytuple[1])"
   ]
  },
  {
   "cell_type": "code",
   "execution_count": 3,
   "id": "295b02a9",
   "metadata": {},
   "outputs": [
    {
     "name": "stdout",
     "output_type": "stream",
     "text": [
      "1 2 3\n"
     ]
    }
   ],
   "source": [
    "#Answer 6)We can unpack a tuple by assigning its individual elements to separate variables. This can be done using the assignment operator = and separating the variables with commas\n",
    "mytuple = (1, 2, 3)\n",
    "a, b, c = mytuple\n",
    "print(a, b, c)\n"
   ]
  },
  {
   "cell_type": "code",
   "execution_count": null,
   "id": "11316e69",
   "metadata": {},
   "outputs": [],
   "source": []
  }
 ],
 "metadata": {
  "kernelspec": {
   "display_name": "Python 3 (ipykernel)",
   "language": "python",
   "name": "python3"
  },
  "language_info": {
   "codemirror_mode": {
    "name": "ipython",
    "version": 3
   },
   "file_extension": ".py",
   "mimetype": "text/x-python",
   "name": "python",
   "nbconvert_exporter": "python",
   "pygments_lexer": "ipython3",
   "version": "3.10.9"
  }
 },
 "nbformat": 4,
 "nbformat_minor": 5
}
