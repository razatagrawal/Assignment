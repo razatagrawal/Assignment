{
 "cells": [
  {
   "cell_type": "markdown",
   "id": "361c66d4",
   "metadata": {},
   "source": [
    "Answer 1) Guido van Rossum developed the python programming language."
   ]
  },
  {
   "cell_type": "markdown",
   "id": "4bcb9368",
   "metadata": {},
   "source": [
    "Answer 2) Python is an interpreted, interactive, object-oriented programming language. It incorporates modules, exceptions, dynamic typing, very high level dynamic data types, and classes. It supports multiple programming paradigms beyond object-oriented programming, such as procedural and functional programming."
   ]
  },
  {
   "cell_type": "markdown",
   "id": "e04e8ba8",
   "metadata": {},
   "source": [
    "Answer 3) Yes, Python is a case−sensitive programming language. This means that it considers uppercase and lowercase letters differently"
   ]
  },
  {
   "cell_type": "markdown",
   "id": "2f219291",
   "metadata": {},
   "source": [
    "Answer 4) pyc: This is the file extension for compiled Python code files. When a . py file is executed, the Python interpreter compiles the code to bytecode and saves it in a . pyc file to improve performance on subsequent executions."
   ]
  },
  {
   "cell_type": "markdown",
   "id": "dc805625",
   "metadata": {},
   "source": [
    "Answer 5) Python is an interpreted language, which means the source code of a Python program is converted into bytecode that is then executed by the Python virtual machine. Python is different from major compiled languages, such as C and C + +, as Python code is not required to be built and linked like code for these languages."
   ]
  },
  {
   "cell_type": "markdown",
   "id": "4dbf466b",
   "metadata": {},
   "source": [
    "Answer 6) Code blocks commonly used in Python:\n",
    "\n",
    "A)Function Definition Block:\n",
    "Functions are reusable blocks of code that perform a specific task. They are defined using the def keyword, followed by the name of the function and a set of parentheses containing any arguments the function accepts.\n",
    "\n",
    "B) Condtional Block:\n",
    "Conditional blocks allow you to execute different code depending on whether a certain condition is true or false. They start with the if keyword, followed by a condition in parentheses, and can include one or more elif blocks (short for \"else if\") and an optional else block.\n",
    "\n",
    "C)Loop Block:\n",
    "Loops are used to repeat a block of code a certain number of times, or until a condition is met. A for loop is used to iterate over an iterable (such as a list or range of numbers), with each iteration assigning the next value to the variable specified after the for keyword.\n",
    "\n",
    "D)Exception Handling Block:\n",
    "Exception handling blocks allow you to handle errors that may occur during program execution. The try block contains the code that may raise an exception, and is followed by one or more except blocks that specify how to handle the exception for specific exception types. "
   ]
  },
  {
   "cell_type": "markdown",
   "id": "02d34b8b",
   "metadata": {},
   "source": [
    "Answer 7) We can use the # character to write the comment in python."
   ]
  },
  {
   "cell_type": "markdown",
   "id": "cc6bd546",
   "metadata": {},
   "source": [
    "Answer 8) The function sys. version can help us to find the version of python that we are currently working on."
   ]
  },
  {
   "cell_type": "markdown",
   "id": "d17ef5a0",
   "metadata": {},
   "source": [
    "Answer 9) Lambda"
   ]
  },
  {
   "cell_type": "markdown",
   "id": "b1e59516",
   "metadata": {},
   "source": [
    "Answer 10) pip stands for \"Pip Installs Packages\". It is a package manager for Python that allows you to easily install, upgrade, and remove Python packages and their dependencies."
   ]
  },
  {
   "cell_type": "code",
   "execution_count": 4,
   "id": "b6bef6dc",
   "metadata": {},
   "outputs": [],
   "source": [
    "#Answer 11) Python Built in Functions-\n",
    "#print( ) function\n",
    "#type( ) function\n",
    "#input( ) function\n",
    "#abs( ) function\n",
    "#pow( ) function\n",
    "#dir( ) function\n",
    "#sorted( ) function\n",
    "#max( ) function\n",
    "#round( ) function\n",
    "#divmod( ) function\n",
    "#id( ) function\n",
    "#ord( ) function\n",
    "#len( ) function\n",
    "#sum( ) function\n",
    "#help( ) function"
   ]
  },
  {
   "cell_type": "markdown",
   "id": "1b1704cb",
   "metadata": {},
   "source": [
    "Answer 12) An identifier can have a maximum length of 79 characters in Python."
   ]
  },
  {
   "cell_type": "code",
   "execution_count": null,
   "id": "276be4fd",
   "metadata": {},
   "outputs": [],
   "source": [
    "#Answer 13) Advantages of Python-\n",
    "#Simple to Use and Understand. For newcomers, Python is simple to understand\n",
    "#Free and Open-Source. \n",
    "#Productivity\n",
    "#Interpreted Language.\n",
    "#Extensive library.\n",
    "#Dynamically Typed.\n",
    "#Portability.\n",
    "#Supportive community.\n"
   ]
  },
  {
   "cell_type": "markdown",
   "id": "00e0c743",
   "metadata": {},
   "source": [
    "Answer 14) Python uses the dynamic memory allocation which is managed by the Heap data structure. Memory Heap holds the objects and other data structures that will be used in the program. Python memory manager manages the allocation or de-allocation of the heap memory space through the API functions."
   ]
  },
  {
   "cell_type": "markdown",
   "id": "159ec4b6",
   "metadata": {},
   "source": [
    "Answer 15) Indentation is important to Python, because it's how you determine scope. Scope is how Python knows what code belongs to what part of the program."
   ]
  },
  {
   "cell_type": "code",
   "execution_count": null,
   "id": "16f3415d",
   "metadata": {},
   "outputs": [],
   "source": []
  }
 ],
 "metadata": {
  "kernelspec": {
   "display_name": "Python 3 (ipykernel)",
   "language": "python",
   "name": "python3"
  },
  "language_info": {
   "codemirror_mode": {
    "name": "ipython",
    "version": 3
   },
   "file_extension": ".py",
   "mimetype": "text/x-python",
   "name": "python",
   "nbconvert_exporter": "python",
   "pygments_lexer": "ipython3",
   "version": "3.10.9"
  }
 },
 "nbformat": 4,
 "nbformat_minor": 5
}
