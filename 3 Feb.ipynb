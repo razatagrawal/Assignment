{
 "cells": [
  {
   "cell_type": "code",
   "execution_count": 13,
   "id": "42e79505-b4ff-40e6-afd5-666a761e1603",
   "metadata": {},
   "outputs": [
    {
     "data": {
      "text/plain": [
       "[1, 3, 5, 7, 9, 11, 13, 15, 17, 19, 21, 23, 25]"
      ]
     },
     "execution_count": 13,
     "metadata": {},
     "output_type": "execute_result"
    }
   ],
   "source": [
    "#Answer 1) The keyword used to create a function in Python is \"def\".\n",
    "#Program to returns a list of odd numbers in the range of 1 to 25:\n",
    "def getodd():\n",
    "    odd_numbers = []\n",
    "    for i in range(1, 26):\n",
    "        if i % 2 == 1:\n",
    "            odd_numbers.append(i)\n",
    "    return odd_numbers\n",
    "getodd()\n"
   ]
  },
  {
   "cell_type": "code",
   "execution_count": 4,
   "id": "7ad5466b-0633-4ab2-8b05-9931661d28b3",
   "metadata": {},
   "outputs": [
    {
     "name": "stdout",
     "output_type": "stream",
     "text": [
      "15\n",
      "name = John\n",
      "age = 30\n",
      "city = New York\n"
     ]
    }
   ],
   "source": [
    "#Answer 2) * args is used to take dynamic input arguments without specifying the number of arguments in the function definition.\n",
    "# **kwargs allows you to pass a dictionary of keyword arguments to a function without specifying the keyword arguments in the function definition\n",
    "# using *args\n",
    "def sum_numbers(*args):\n",
    "    result = 0\n",
    "    for number in args:\n",
    "        result += number\n",
    "    return result\n",
    "\n",
    "# using **kwargs\n",
    "def print_kwargs(**kwargs):\n",
    "    for key, value in kwargs.items():\n",
    "        print(f\"{key} = {value}\")\n",
    "        \n",
    "print(sum_numbers(1, 2, 3, 4, 5)) \n",
    "print_kwargs(name=\"John\", age=30, city=\"New York\")\n"
   ]
  },
  {
   "cell_type": "markdown",
   "id": "a72888c1-4a63-4f57-96c1-cc20a713cf2a",
   "metadata": {},
   "source": [
    "Answer 3)In Python, an iterator is an object that allows us to iterate through a sequence of values, one at a time. It is used to traverse a container and access its elements.\n",
    "\n",
    "To create an iterator object, we use the iter() method. This method takes a sequence (e.g. a list, tuple, string, etc.) and returns an iterator object.Once we have an iterator object, we can iterate through it using the next() method. This method returns the next element in the sequence, and advances the iterator to the next position. When there are no more elements in the sequence, the next() method raises the StopIteration exception."
   ]
  },
  {
   "cell_type": "code",
   "execution_count": 1,
   "id": "0233e4b4-7593-4e79-b54f-d262e977b443",
   "metadata": {},
   "outputs": [
    {
     "name": "stdout",
     "output_type": "stream",
     "text": [
      "2\n",
      "4\n",
      "6\n",
      "8\n",
      "10\n"
     ]
    }
   ],
   "source": [
    "list = [2, 4, 6, 8, 10, 12, 14, 16, 18, 20]\n",
    "my_iterator = iter(list)\n",
    "\n",
    "# first five elements\n",
    "for i in range(5):\n",
    "    print(next(my_iterator))"
   ]
  },
  {
   "cell_type": "markdown",
   "id": "004f0d86-5995-4bff-9046-2b7df6b32716",
   "metadata": {},
   "source": [
    "Answer 4)A generator function is a special kind of function that returns an iterator object, which can be used to iterate over a sequence of values.\n",
    "\n",
    "The yield keyword is used in generator functions to produce a sequence of values one at a time. When a yield statement is encountered, the function's execution is paused, and the yielded value is returned to the caller. The function's state is saved so that it can be resumed later, and the next time the function is called, it picks up where it left off.\n",
    "\n",
    "The main advantage of using generator functions is that they allow us to generate a sequence of values without having to store the entire sequence in memory at once. This can be particularly useful when working with large datasets or infinite sequences."
   ]
  },
  {
   "cell_type": "code",
   "execution_count": 5,
   "id": "37d1c7a3-d502-4926-b99a-b4351b4e0219",
   "metadata": {},
   "outputs": [
    {
     "name": "stdout",
     "output_type": "stream",
     "text": [
      "5\n",
      "4\n",
      "3\n",
      "2\n",
      "1\n"
     ]
    }
   ],
   "source": [
    "def countdown(n):\n",
    "    while n > 0:\n",
    "        yield n\n",
    "        n -= 1\n",
    "my_generator = countdown(5)\n",
    "for value in my_generator:\n",
    "    print(value)"
   ]
  },
  {
   "cell_type": "code",
   "execution_count": 1,
   "id": "d524bb3a-fa3d-49c7-8c0b-91ba94f4dc07",
   "metadata": {},
   "outputs": [
    {
     "name": "stdout",
     "output_type": "stream",
     "text": [
      "2\n",
      "3\n",
      "5\n",
      "7\n",
      "11\n",
      "13\n",
      "17\n",
      "19\n",
      "23\n",
      "29\n",
      "31\n",
      "37\n",
      "41\n",
      "43\n",
      "47\n",
      "53\n",
      "59\n",
      "61\n",
      "67\n",
      "71\n"
     ]
    }
   ],
   "source": [
    "#Answer 5)\n",
    "def primes():\n",
    "    numbers = list(range(2, 1000))\n",
    "    for i in numbers:\n",
    "        if i:\n",
    "            for j in range(i * i, 1000, i):\n",
    "                numbers[j - 2] = 0\n",
    "    for i in numbers:\n",
    "        if i:\n",
    "            yield i\n",
    "my_generator = primes()\n",
    "for i in range(20):\n",
    "    print(next(my_generator))"
   ]
  },
  {
   "cell_type": "code",
   "execution_count": 3,
   "id": "a09452b5-58eb-44c5-9cd1-a6822a92137a",
   "metadata": {},
   "outputs": [
    {
     "name": "stdout",
     "output_type": "stream",
     "text": [
      "0\n",
      "1\n",
      "1\n",
      "2\n",
      "3\n",
      "5\n",
      "8\n",
      "13\n",
      "21\n",
      "34\n"
     ]
    }
   ],
   "source": [
    "#Answer 6 \n",
    "a, b = 0, 1\n",
    "\n",
    "#first 10 Fibonacci numbers\n",
    "count = 0\n",
    "while count < 10:\n",
    "    print(a)\n",
    "    a, b = b, a + b\n",
    "    count += 1"
   ]
  },
  {
   "cell_type": "code",
   "execution_count": 5,
   "id": "0d6fffa9-863e-4399-8fab-69821e9f9d78",
   "metadata": {},
   "outputs": [
    {
     "name": "stdout",
     "output_type": "stream",
     "text": [
      "['p', 'w', 's', 'k', 'i', 'l', 'l', 's']\n"
     ]
    }
   ],
   "source": [
    "#Answer 7 \n",
    "string = 'pwskills'\n",
    "\n",
    "list = [char for char in string if char in 'pwskill']\n",
    "print(list)"
   ]
  },
  {
   "cell_type": "code",
   "execution_count": 6,
   "id": "eed9e75e-4fb6-44f2-bf31-1cb1932f93cd",
   "metadata": {},
   "outputs": [
    {
     "name": "stdin",
     "output_type": "stream",
     "text": [
      "Enter a number:  45\n"
     ]
    },
    {
     "name": "stdout",
     "output_type": "stream",
     "text": [
      "45 is not a palindrome\n"
     ]
    }
   ],
   "source": [
    "#Answer 8\n",
    "\n",
    "num = int(input(\"Enter a number: \"))\n",
    "reverse = 0\n",
    "temp = num\n",
    "while temp > 0:\n",
    "    digit = temp % 10\n",
    "    reverse = reverse * 10 + digit\n",
    "    temp //= 10\n",
    "if num == reverse:\n",
    "    print(num, \"is a palindrome\")\n",
    "else:\n",
    "    print(num, \"is not a palindrome\")\n"
   ]
  },
  {
   "cell_type": "code",
   "execution_count": 7,
   "id": "5ee55137-e001-4335-83b5-176ad90c2765",
   "metadata": {},
   "outputs": [
    {
     "name": "stdout",
     "output_type": "stream",
     "text": [
      "[1, 3, 5, 7, 9, 11, 13, 15, 17, 19, 21, 23, 25, 27, 29, 31, 33, 35, 37, 39, 41, 43, 45, 47, 49, 51, 53, 55, 57, 59, 61, 63, 65, 67, 69, 71, 73, 75, 77, 79, 81, 83, 85, 87, 89, 91, 93, 95, 97, 99]\n"
     ]
    }
   ],
   "source": [
    "#Answer 9 - list of numbers from 1 to 100\n",
    "numbers = [num for num in range(1, 101)]\n",
    "\n",
    "odds = [num for num in numbers if num % 2 != 0]\n",
    "\n",
    "print(odds)\n"
   ]
  },
  {
   "cell_type": "code",
   "execution_count": null,
   "id": "0ca4be98-6f4b-4967-a26e-5f968091d48b",
   "metadata": {},
   "outputs": [],
   "source": []
  }
 ],
 "metadata": {
  "kernelspec": {
   "display_name": "Python 3 (ipykernel)",
   "language": "python",
   "name": "python3"
  },
  "language_info": {
   "codemirror_mode": {
    "name": "ipython",
    "version": 3
   },
   "file_extension": ".py",
   "mimetype": "text/x-python",
   "name": "python",
   "nbconvert_exporter": "python",
   "pygments_lexer": "ipython3",
   "version": "3.10.9"
  }
 },
 "nbformat": 4,
 "nbformat_minor": 5
}
